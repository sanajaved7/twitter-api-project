{
 "cells": [
  {
   "cell_type": "code",
   "execution_count": 1,
   "metadata": {
    "collapsed": true
   },
   "outputs": [],
   "source": [
    "import pandas"
   ]
  },
  {
   "cell_type": "code",
   "execution_count": 4,
   "metadata": {
    "collapsed": false
   },
   "outputs": [],
   "source": [
    "#this is how you get pandas to read a csv file\n",
    "tweets = pandas.read_csv(\"blm.csv\")"
   ]
  },
  {
   "cell_type": "code",
   "execution_count": 7,
   "metadata": {
    "collapsed": false
   },
   "outputs": [
    {
     "data": {
      "text/plain": [
       "pandas.core.frame.DataFrame"
      ]
     },
     "execution_count": 7,
     "metadata": {},
     "output_type": "execute_result"
    }
   ],
   "source": [
    "# get one column from tweets\n",
    "tweets['User Name']"
   ]
  },
  {
   "cell_type": "code",
   "execution_count": 8,
   "metadata": {
    "collapsed": true
   },
   "outputs": [],
   "source": [
    "# get one row from tweets\n",
    "tweets[0:1]"
   ]
  },
  {
   "cell_type": "code",
   "execution_count": 9,
   "metadata": {
    "collapsed": true
   },
   "outputs": [],
   "source": [
    "# get 2 columns from tweets"
   ]
  },
  {
   "cell_type": "code",
   "execution_count": 10,
   "metadata": {
    "collapsed": true
   },
   "outputs": [],
   "source": [
    "# get 2 rows from tweets\n",
    "tweets[0:2]"
   ]
  },
  {
   "cell_type": "code",
   "execution_count": 11,
   "metadata": {
    "collapsed": true
   },
   "outputs": [],
   "source": [
    "# get a column by column name"
   ]
  },
  {
   "cell_type": "code",
   "execution_count": 12,
   "metadata": {
    "collapsed": true
   },
   "outputs": [],
   "source": [
    "# get a column by number index"
   ]
  },
  {
   "cell_type": "code",
   "execution_count": 13,
   "metadata": {
    "collapsed": true
   },
   "outputs": [],
   "source": [
    "# get a row by index"
   ]
  },
  {
   "cell_type": "code",
   "execution_count": 14,
   "metadata": {
    "collapsed": true
   },
   "outputs": [],
   "source": [
    "# get only rows that have more than 10 `Number of Retweets` (subsetting)"
   ]
  },
  {
   "cell_type": "code",
   "execution_count": 16,
   "metadata": {
    "collapsed": false
   },
   "outputs": [],
   "source": [
    "# get only rows that are RTs (subsetting)"
   ]
  },
  {
   "cell_type": "code",
   "execution_count": 20,
   "metadata": {
    "collapsed": false
   },
   "outputs": [
    {
     "data": {
      "text/plain": [
       "Index(['Tweet Text', 'Number of Retweets', 'User Name', 'Number of Favorites', 'Location of User', 'Date/Time of Tweet', 'Hashtags in Tweet'], dtype='object')"
      ]
     },
     "execution_count": 20,
     "metadata": {},
     "output_type": "execute_result"
    }
   ],
   "source": [
    "tweets.columns"
   ]
  },
  {
   "cell_type": "code",
   "execution_count": 31,
   "metadata": {
    "collapsed": false
   },
   "outputs": [
    {
     "data": {
      "text/html": [
       "<div style=\"max-height:1000px;max-width:1500px;overflow:auto;\">\n",
       "<table border=\"1\" class=\"dataframe\">\n",
       "  <thead>\n",
       "    <tr style=\"text-align: right;\">\n",
       "      <th></th>\n",
       "      <th>Tweet Text</th>\n",
       "      <th>Number of Retweets</th>\n",
       "      <th>User Name</th>\n",
       "      <th>Number of Favorites</th>\n",
       "      <th>Location of User</th>\n",
       "      <th>Date/Time of Tweet</th>\n",
       "      <th>Hashtags in Tweet</th>\n",
       "    </tr>\n",
       "  </thead>\n",
       "  <tbody>\n",
       "    <tr>\n",
       "      <th>5</th>\n",
       "      <td>RT @agau23: Chris Paul, 29 yrs old, UNARMED #B...</td>\n",
       "      <td>2151</td>\n",
       "      <td>Johnny Fernandes</td>\n",
       "      <td>0</td>\n",
       "      <td>NaN</td>\n",
       "      <td>Mon Apr 06 02:15:53 +0000 2015</td>\n",
       "      <td>#BlackLivesMatter</td>\n",
       "    </tr>\n",
       "    <tr>\n",
       "      <th>43</th>\n",
       "      <td>RT @agau23: Chris Paul, 29 yrs old, UNARMED #B...</td>\n",
       "      <td>2151</td>\n",
       "      <td>JayTheGreat</td>\n",
       "      <td>0</td>\n",
       "      <td>NaN</td>\n",
       "      <td>Mon Apr 06 02:09:20 +0000 2015</td>\n",
       "      <td>#BlackLivesMatter</td>\n",
       "    </tr>\n",
       "    <tr>\n",
       "      <th>50</th>\n",
       "      <td>RT @agau23: Chris Paul, 29 yrs old, UNARMED #B...</td>\n",
       "      <td>2151</td>\n",
       "      <td>King Em ♔</td>\n",
       "      <td>0</td>\n",
       "      <td>NaN</td>\n",
       "      <td>Mon Apr 06 02:08:25 +0000 2015</td>\n",
       "      <td>#BlackLivesMatter</td>\n",
       "    </tr>\n",
       "    <tr>\n",
       "      <th>52</th>\n",
       "      <td>RT @agau23: Chris Paul, 29 yrs old, UNARMED #B...</td>\n",
       "      <td>2151</td>\n",
       "      <td>J-Nich</td>\n",
       "      <td>0</td>\n",
       "      <td>Skips Palace (The Trap)</td>\n",
       "      <td>Mon Apr 06 02:08:19 +0000 2015</td>\n",
       "      <td>#BlackLivesMatter</td>\n",
       "    </tr>\n",
       "    <tr>\n",
       "      <th>56</th>\n",
       "      <td>RT @agau23: Chris Paul, 29 yrs old, UNARMED #B...</td>\n",
       "      <td>2151</td>\n",
       "      <td>♨️G.$αv♨️</td>\n",
       "      <td>0</td>\n",
       "      <td>NaN</td>\n",
       "      <td>Mon Apr 06 02:07:43 +0000 2015</td>\n",
       "      <td>#BlackLivesMatter</td>\n",
       "    </tr>\n",
       "    <tr>\n",
       "      <th>63</th>\n",
       "      <td>RT @agau23: Chris Paul, 29 yrs old, UNARMED #B...</td>\n",
       "      <td>2151</td>\n",
       "      <td>N. Hines</td>\n",
       "      <td>0</td>\n",
       "      <td>NaN</td>\n",
       "      <td>Mon Apr 06 02:05:04 +0000 2015</td>\n",
       "      <td>#BlackLivesMatter</td>\n",
       "    </tr>\n",
       "    <tr>\n",
       "      <th>71</th>\n",
       "      <td>RT @agau23: Chris Paul, 29 yrs old, UNARMED #B...</td>\n",
       "      <td>2151</td>\n",
       "      <td>Xavier Graves</td>\n",
       "      <td>0</td>\n",
       "      <td>Somewhere in outer space.</td>\n",
       "      <td>Mon Apr 06 02:03:51 +0000 2015</td>\n",
       "      <td>#BlackLivesMatter</td>\n",
       "    </tr>\n",
       "    <tr>\n",
       "      <th>88</th>\n",
       "      <td>RT @agau23: Chris Paul, 29 yrs old, UNARMED #B...</td>\n",
       "      <td>2151</td>\n",
       "      <td>SA®FO</td>\n",
       "      <td>0</td>\n",
       "      <td>NaN</td>\n",
       "      <td>Mon Apr 06 01:59:06 +0000 2015</td>\n",
       "      <td>#BlackLivesMatter</td>\n",
       "    </tr>\n",
       "  </tbody>\n",
       "</table>\n",
       "</div>"
      ],
      "text/plain": [
       "                                           Tweet Text  Number of Retweets  \\\n",
       "5   RT @agau23: Chris Paul, 29 yrs old, UNARMED #B...                2151   \n",
       "43  RT @agau23: Chris Paul, 29 yrs old, UNARMED #B...                2151   \n",
       "50  RT @agau23: Chris Paul, 29 yrs old, UNARMED #B...                2151   \n",
       "52  RT @agau23: Chris Paul, 29 yrs old, UNARMED #B...                2151   \n",
       "56  RT @agau23: Chris Paul, 29 yrs old, UNARMED #B...                2151   \n",
       "63  RT @agau23: Chris Paul, 29 yrs old, UNARMED #B...                2151   \n",
       "71  RT @agau23: Chris Paul, 29 yrs old, UNARMED #B...                2151   \n",
       "88  RT @agau23: Chris Paul, 29 yrs old, UNARMED #B...                2151   \n",
       "\n",
       "           User Name  Number of Favorites            Location of User  \\\n",
       "5   Johnny Fernandes                    0                         NaN   \n",
       "43       JayTheGreat                    0                         NaN   \n",
       "50         King Em ♔                    0                         NaN   \n",
       "52            J-Nich                    0     Skips Palace (The Trap)   \n",
       "56         ♨️G.$αv♨️                    0                         NaN   \n",
       "63          N. Hines                    0                         NaN   \n",
       "71     Xavier Graves                    0  Somewhere in outer space.    \n",
       "88             SA®FO                    0                         NaN   \n",
       "\n",
       "                Date/Time of Tweet   Hashtags in Tweet  \n",
       "5   Mon Apr 06 02:15:53 +0000 2015  #BlackLivesMatter   \n",
       "43  Mon Apr 06 02:09:20 +0000 2015  #BlackLivesMatter   \n",
       "50  Mon Apr 06 02:08:25 +0000 2015  #BlackLivesMatter   \n",
       "52  Mon Apr 06 02:08:19 +0000 2015  #BlackLivesMatter   \n",
       "56  Mon Apr 06 02:07:43 +0000 2015  #BlackLivesMatter   \n",
       "63  Mon Apr 06 02:05:04 +0000 2015  #BlackLivesMatter   \n",
       "71  Mon Apr 06 02:03:51 +0000 2015  #BlackLivesMatter   \n",
       "88  Mon Apr 06 01:59:06 +0000 2015  #BlackLivesMatter   "
      ]
     },
     "execution_count": 31,
     "metadata": {},
     "output_type": "execute_result"
    }
   ],
   "source": [
    "tweets[tweets['Number of Retweets'] > 2000]"
   ]
  },
  {
   "cell_type": "code",
   "execution_count": 27,
   "metadata": {
    "collapsed": false
   },
   "outputs": [
    {
     "data": {
      "text/html": [
       "<div style=\"max-height:1000px;max-width:1500px;overflow:auto;\">\n",
       "<table border=\"1\" class=\"dataframe\">\n",
       "  <thead>\n",
       "    <tr style=\"text-align: right;\">\n",
       "      <th></th>\n",
       "      <th>Tweet Text</th>\n",
       "      <th>User Name</th>\n",
       "    </tr>\n",
       "  </thead>\n",
       "  <tbody>\n",
       "    <tr>\n",
       "      <th>0</th>\n",
       "      <td>#ResurrectionSunday2015 with Phyllis Brown #Bl...</td>\n",
       "      <td>Msunq365</td>\n",
       "    </tr>\n",
       "    <tr>\n",
       "      <th>1</th>\n",
       "      <td>RT @NakedTruthMedia: The media calls black rio...</td>\n",
       "      <td>Stan Siegwald</td>\n",
       "    </tr>\n",
       "  </tbody>\n",
       "</table>\n",
       "</div>"
      ],
      "text/plain": [
       "                                          Tweet Text      User Name\n",
       "0  #ResurrectionSunday2015 with Phyllis Brown #Bl...       Msunq365\n",
       "1  RT @NakedTruthMedia: The media calls black rio...  Stan Siegwald"
      ]
     },
     "execution_count": 27,
     "metadata": {},
     "output_type": "execute_result"
    }
   ],
   "source": [
    "tweets.loc[0:1,['Tweet Text','User Name']]"
   ]
  },
  {
   "cell_type": "code",
   "execution_count": 28,
   "metadata": {
    "collapsed": false
   },
   "outputs": [
    {
     "data": {
      "text/plain": [
       "Tweet Text             RT @Jason_Pollock: This meme pretty much sums ...\n",
       "Number of Retweets                                                     3\n",
       "User Name                                                   minefield101\n",
       "Number of Favorites                                                    0\n",
       "Location of User                                                     NaN\n",
       "Date/Time of Tweet                        Mon Apr 06 02:16:14 +0000 2015\n",
       "Hashtags in Tweet                                     #BlackLivesMatter \n",
       "Name: 3, dtype: object"
      ]
     },
     "execution_count": 28,
     "metadata": {},
     "output_type": "execute_result"
    }
   ],
   "source": [
    "tweets.iloc[3]"
   ]
  },
  {
   "cell_type": "code",
   "execution_count": null,
   "metadata": {
    "collapsed": true
   },
   "outputs": [],
   "source": []
  }
 ],
 "metadata": {
  "kernelspec": {
   "display_name": "Python 3",
   "language": "python",
   "name": "python3"
  },
  "language_info": {
   "codemirror_mode": {
    "name": "ipython",
    "version": 3
   },
   "file_extension": ".py",
   "mimetype": "text/x-python",
   "name": "python",
   "nbconvert_exporter": "python",
   "pygments_lexer": "ipython3",
   "version": "3.4.2"
  }
 },
 "nbformat": 4,
 "nbformat_minor": 0
}
